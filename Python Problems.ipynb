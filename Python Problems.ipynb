{
 "cells": [
  {
   "cell_type": "markdown",
   "id": "e5a24c29",
   "metadata": {},
   "source": [
    "Exercise 1: Calculate the multiplication and sum of two numbers\n",
    "\n",
    "\n",
    "Given two integer numbers, return their product only if the product is equal to or lower than 1000. Otherwise, return their sum."
   ]
  },
  {
   "cell_type": "code",
   "execution_count": null,
   "id": "34e82b2e",
   "metadata": {},
   "outputs": [],
   "source": [
    "def compute_result(num1, num2):\n",
    "    if num1 * num2 <= 1000:\n",
    "        return num1 * num2\n",
    "    else:\n",
    "        return num1 + num2  \n",
    "       \n",
    "result = compute_result(10, 20)\n",
    "print(result)        \n"
   ]
  },
  {
   "cell_type": "markdown",
   "id": "8b4fe313",
   "metadata": {},
   "source": [
    "Exercise 2: Print the sum of the current number and the previous number\n",
    "\n",
    "Write a program to iterate the first 10 numbers, and in each iteration, print the sum of the current and previous number.\n",
    "\n"
   ]
  },
  {
   "cell_type": "code",
   "execution_count": null,
   "id": "eb0387b3",
   "metadata": {},
   "outputs": [],
   "source": [
    "def iteration(num):\n",
    "    prev_num = 0\n",
    "    for i in range(num):\n",
    "        print(prev_num + i)\n",
    "        prev_num = i\n",
    "result = iteration(10)    \n",
    "print(result)"
   ]
  },
  {
   "cell_type": "code",
   "execution_count": null,
   "id": "97809f1a",
   "metadata": {},
   "outputs": [],
   "source": []
  }
 ],
 "metadata": {
  "kernelspec": {
   "display_name": "Python 3 (ipykernel)",
   "language": "python",
   "name": "python3"
  },
  "language_info": {
   "codemirror_mode": {
    "name": "ipython",
    "version": 3
   },
   "file_extension": ".py",
   "mimetype": "text/x-python",
   "name": "python",
   "nbconvert_exporter": "python",
   "pygments_lexer": "ipython3",
   "version": "3.11.5"
  }
 },
 "nbformat": 4,
 "nbformat_minor": 5
}
